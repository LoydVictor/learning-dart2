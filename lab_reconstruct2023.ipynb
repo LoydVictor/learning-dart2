{
 "cells": [
  {
   "cell_type": "code",
   "execution_count": 1,
   "id": "3780c2df",
   "metadata": {
    "deletable": false,
    "editable": false
   },
   "outputs": [],
   "source": [
    "# Initialize Otter\n",
    "import otter\n",
    "grader = otter.Notebook(\"lab_reconstruct2023.ipynb\")"
   ]
  },
  {
   "cell_type": "markdown",
   "id": "a2e076a4",
   "metadata": {},
   "source": [
    "# Assignment"
   ]
  },
  {
   "cell_type": "markdown",
   "id": "33f13682",
   "metadata": {},
   "source": [
    "***\n",
    "**Task**:  Suppose we have samples $x[n] = x(nT)$ of the signal\n",
    "$$x(t) = \\cos\\left( \\frac{t-5}{5} \\right) - \\left( \\frac{t-5}{5} \\right)^3$$\n",
    "for $n=0, \\ldots, N-1$, with $N=10$ and $T = 1.2$.  Consider the reconstruction equation\n",
    "$$x_r(t) = \\sum_{n=0}^{N-1} x[n] b_0(t-nT).$$\n",
    "On the same set of axes plot both $x(t)$ and $x_r(t)$ over the range $t = 0$ to $t=(N-1)T$ for various different interpolants.\n",
    "***"
   ]
  },
  {
   "cell_type": "markdown",
   "id": "a3a0ab51",
   "metadata": {},
   "source": [
    "## Zero-order hold reconstruction"
   ]
  },
  {
   "cell_type": "markdown",
   "id": "f4d50ea8",
   "metadata": {},
   "source": [
    "Generate a vector `xvs` containing the sample values $x[0], \\ldots, x[N]$ for the values of $N$ and $T$ specified above.  The vector `tvs` should contain the corresponding time instants for the samples."
   ]
  },
  {
   "cell_type": "code",
   "execution_count": 2,
   "id": "34a9917e",
   "metadata": {
    "tags": []
   },
   "outputs": [],
   "source": [
    "import numpy as np\n",
    "import matplotlib.pyplot as plt\n",
    "\n",
    "N = 10\n",
    "T = 1.2\n",
    "# Generate time instants for the samples\n",
    "tvs = np.arange(N) * T\n",
    "\n",
    "# Generate sample values for the given signal x(t)\n",
    "xvs = np.cos((tvs - 5) / 5) - ((tvs - 5) / 5)**3"
   ]
  },
  {
   "cell_type": "code",
   "execution_count": 3,
   "id": "de51cf27",
   "metadata": {
    "tags": []
   },
   "outputs": [
    {
     "data": {
      "image/png": "[encoded data removed]",
      "text/plain": [
       "<Figure size 640x480 with 1 Axes>"
      ]
     },
     "metadata": {},
     "output_type": "display_data"
    }
   ],
   "source": [
    "# Plot signal and sample values\n",
    "tv = np.linspace(0,(N-1)*T,4000);\n",
    "xv = np.cos((tv-5)/5) -((tv-5)/5)**3\n",
    "plt.plot(tv,xv,'b-');\n",
    "plt.stem(tvs,xvs,'r.');"
   ]
  },
  {
   "cell_type": "code",
   "execution_count": 4,
   "id": "259c84bc",
   "metadata": {
    "deletable": false,
    "editable": false
   },
   "outputs": [
    {
     "data": {
      "text/html": [
       "<p><strong><pre style='display: inline;'>reconstruct_q1a</pre></strong> passed! 💯</p><p><strong><pre style='display: inline;'>reconstruct_q1a - 1</pre> message:</strong> vectors tv and xv have correct length</p><p><strong><pre style='display: inline;'>reconstruct_q1a - 2</pre> message:</strong> vector tv has correct values</p>"
      ],
      "text/plain": [
       "reconstruct_q1a results: All test cases passed!\n",
       "reconstruct_q1a - 1 message: vectors tv and xv have correct length\n",
       "reconstruct_q1a - 2 message: vector tv has correct values"
      ]
     },
     "execution_count": 4,
     "metadata": {},
     "output_type": "execute_result"
    }
   ],
   "source": [
    "grader.check(\"reconstruct_q1a\")"
   ]
  },
  {
   "cell_type": "markdown",
   "id": "15f99dac",
   "metadata": {},
   "source": [
    "In the code block below, define the required centered interpolation function $b_0(t)$ to use in the reconstruction formula.  It should take a vector of time values `tv` and return the corresponding interpolation values `b0v`.  In this instance we require $b_0(t) = p_T(t) = p_1(t/T)$, where $p_T(t)$ is the unit pulse of total width $T$ centered on the origin.  For your implementation you should ensure that $b_0(-T/2) = b_0(T/2) = 1$."
   ]
  },
  {
   "cell_type": "code",
   "execution_count": 5,
   "id": "5118ed41",
   "metadata": {
    "tags": []
   },
   "outputs": [],
   "source": [
    "def b0v_values(tv,T):\n",
    "    b0v = np.where(np.abs(tv) <= T / 2, 1, 0)\n",
    "    return b0v"
   ]
  },
  {
   "cell_type": "code",
   "execution_count": 6,
   "id": "e49c1437",
   "metadata": {},
   "outputs": [
    {
     "data": {
      "image/png": "[encoded data removed]",
      "text/plain": [
       "<Figure size 640x480 with 1 Axes>"
      ]
     },
     "metadata": {},
     "output_type": "display_data"
    }
   ],
   "source": [
    "# Plot reconstruction basis\n",
    "tvb = np.linspace(-T,T,1000)\n",
    "b0vb = b0v_values(tvb,T)\n",
    "plt.plot(tvb,b0vb,'r-');"
   ]
  },
  {
   "cell_type": "code",
   "execution_count": 7,
   "id": "967402b6",
   "metadata": {
    "deletable": false,
    "editable": false
   },
   "outputs": [
    {
     "data": {
      "text/html": [
       "<p><strong><pre style='display: inline;'>reconstruct_q1b</pre></strong> passed! 🎉</p><p><strong><pre style='display: inline;'>reconstruct_q1b - 1</pre> message:</strong> output b0v has same shape as input tv0 for test case</p>"
      ],
      "text/plain": [
       "reconstruct_q1b results: All test cases passed!\n",
       "reconstruct_q1b - 1 message: output b0v has same shape as input tv0 for test case"
      ]
     },
     "execution_count": 7,
     "metadata": {},
     "output_type": "execute_result"
    }
   ],
   "source": [
    "grader.check(\"reconstruct_q1b\")"
   ]
  },
  {
   "cell_type": "markdown",
   "id": "02d04477",
   "metadata": {},
   "source": [
    "The code block below should generate the reconstructed signal values at the given set of time instants `tv`, using the sample values `xvs` corresponding to sampling times `tvs`, and placing the result in the vector `xvr` of the same dimension as `tv`.  You should assume that the sampled signal values are zero outside of the range over which the samples were taken."
   ]
  },
  {
   "cell_type": "code",
   "execution_count": 8,
   "id": "74555b7a",
   "metadata": {
    "tags": []
   },
   "outputs": [],
   "source": [
    "tv = np.linspace(0,(N-1)*T,4000);\n",
    "xvr = np.zeros_like(tv)\n",
    "for i in range(0,len(xvs)):   \n",
    "    xvr = xvr = xvr + xvs[i] * b0v_values(tv - i * T, T)"
   ]
  },
  {
   "cell_type": "code",
   "execution_count": 9,
   "id": "6995f998",
   "metadata": {},
   "outputs": [
    {
     "data": {
      "image/png": "[encoded data removed]",
      "text/plain": [
       "<Figure size 640x480 with 1 Axes>"
      ]
     },
     "metadata": {},
     "output_type": "display_data"
    }
   ],
   "source": [
    "plt.plot(tv,xv,'b-',label='Actual signal');\n",
    "plt.stem(tvs,xvs,'r.',label='Sampled signal');\n",
    "plt.plot(tv,xvr,'g-',label='Reconstructed signal');\n",
    "plt.legend();"
   ]
  },
  {
   "cell_type": "code",
   "execution_count": 10,
   "id": "079bbe5a",
   "metadata": {
    "deletable": false,
    "editable": false
   },
   "outputs": [
    {
     "data": {
      "text/html": [
       "<p><strong><pre style='display: inline;'>reconstruct_q1c</pre></strong> passed! 🌈</p><p><strong><pre style='display: inline;'>reconstruct_q1c - 1</pre> message:</strong> xvr has same shape as tv</p><p><strong><pre style='display: inline;'>reconstruct_q1c - 2</pre> message:</strong> xvr has correct start and end values</p>"
      ],
      "text/plain": [
       "reconstruct_q1c results: All test cases passed!\n",
       "reconstruct_q1c - 1 message: xvr has same shape as tv\n",
       "reconstruct_q1c - 2 message: xvr has correct start and end values"
      ]
     },
     "execution_count": 10,
     "metadata": {},
     "output_type": "execute_result"
    }
   ],
   "source": [
    "grader.check(\"reconstruct_q1c\")"
   ]
  },
  {
   "cell_type": "markdown",
   "id": "c7a28476",
   "metadata": {},
   "source": [
    "***"
   ]
  },
  {
   "cell_type": "markdown",
   "id": "cd92bedc",
   "metadata": {},
   "source": [
    "## First-order hold reconstruction"
   ]
  },
  {
   "cell_type": "markdown",
   "id": "db1025ba",
   "metadata": {},
   "source": [
    "Repeat the reconstruction process developed in the previous section, but with the reconstruction kernel\n",
    "$$\n",
    "b_1(t) = (1 - |t|/T) p_T(t).\n",
    "$$\n",
    "The code block below should exit with `xv1r` containing the values of the reconstructed signal at time instants `tv`."
   ]
  },
  {
   "cell_type": "code",
   "execution_count": 11,
   "id": "5ed5ea2e",
   "metadata": {
    "tags": []
   },
   "outputs": [],
   "source": [
    "tv = np.linspace(0,(N-1)*T,4000);\n",
    "def b1v_values(tv,T):\n",
    "    b1vc = (1 - np.abs(tv) / T) * np.where(np.abs(tv) <= T, 1, 0)\n",
    "    return np.maximum(b1vc, 0) \n",
    "\n",
    "xv1r = np.zeros(tv.shape)\n",
    "for i in range(0,len(xvs)):   \n",
    "    xv1r = xv1r = xv1r + xvs[i] * b1v_values(tv - i * T, T)"
   ]
  },
  {
   "cell_type": "code",
   "execution_count": null,
   "id": "41208221",
   "metadata": {},
   "outputs": [],
   "source": [
    "# Plot reconstruction basis\n",
    "tvb = np.linspace(-2*T,2*T,1000)\n",
    "b1vb = b1v_values(tvb,T)\n",
    "plt.plot(tvb,b1vb,'r-');"
   ]
  },
  {
   "cell_type": "code",
   "execution_count": null,
   "id": "c8f63926",
   "metadata": {},
   "outputs": [],
   "source": [
    "plt.plot(tv,xv,'b-',label='Actual signal');\n",
    "plt.stem(tvs,xvs,'r.',label='Sampled signal');\n",
    "plt.plot(tv,xv1r,'g-',label='Reconstructed signal');\n",
    "plt.legend();"
   ]
  },
  {
   "cell_type": "code",
   "execution_count": null,
   "id": "45cf43cf",
   "metadata": {
    "deletable": false,
    "editable": false
   },
   "outputs": [],
   "source": [
    "grader.check(\"reconstruct_q1d\")"
   ]
  },
  {
   "cell_type": "markdown",
   "id": "a117e9a8",
   "metadata": {
    "deletable": false,
    "editable": false
   },
   "source": [
    "## Submission\n",
    "\n",
    "Make sure you have run all cells in your notebook in order before running the cell below, so that all images/graphs appear in the output. The cell below will generate a zip file for you to submit. **Please save before exporting!**"
   ]
  },
  {
   "cell_type": "code",
   "execution_count": null,
   "id": "d14b2034",
   "metadata": {
    "deletable": false,
    "editable": false
   },
   "outputs": [],
   "source": [
    "# Save your notebook first, then run this cell to export your submission.\n",
    "grader.export(pdf=False, run_tests=True)"
   ]
  },
  {
   "cell_type": "markdown",
   "id": "fe41ecc3",
   "metadata": {},
   "source": [
    " "
   ]
  }
 ],
 "metadata": {
  "kernelspec": {
   "display_name": "Python 3 (ipykernel)",
   "language": "python",
   "name": "python3"
  },
  "language_info": {
   "codemirror_mode": {
    "name": "ipython",
    "version": 3
   },
   "file_extension": ".py",
   "mimetype": "text/x-python",
   "name": "python",
   "nbconvert_exporter": "python",
   "pygments_lexer": "ipython3",
   "version": "3.11.3"
  },
  "otter": {
   "OK_FORMAT": true,
   "assignment_name": "reconstruct_q1",
   "tests": {
    "reconstruct_q1a": {
     "name": "reconstruct_q1a",
     "points": null,
     "suites": [
      {
       "cases": [
        {
         "code": ">>> assert len(tvs)==10 & len(xvs)==10\n",
         "failure_message": "vectors tv and xv do not have correct length",
         "hidden": false,
         "locked": false,
         "points": 1,
         "success_message": "vectors tv and xv have correct length"
        },
        {
         "code": ">>> tvsc = 1.2*np.arange(10)\n>>> assert np.all(np.abs(tvs-tvsc)<1e-6)\n",
         "failure_message": "vector tv does not have correct values",
         "hidden": false,
         "locked": false,
         "points": 1,
         "success_message": "vector tv has correct values"
        }
       ],
       "scored": true,
       "setup": "",
       "teardown": "",
       "type": "doctest"
      }
     ]
    },
    "reconstruct_q1b": {
     "name": "reconstruct_q1b",
     "points": null,
     "suites": [
      {
       "cases": [
        {
         "code": ">>> Tc = 1.5\n>>> tv0c = np.linspace(-Tc,Tc,2000)\n>>> b0vc = b0v_values(tv0c,Tc)\n>>> assert b0vc.shape==tv0c.shape\n",
         "failure_message": "output b0v does not have same shape as input tv0 for test case",
         "hidden": false,
         "locked": false,
         "points": 1,
         "success_message": "output b0v has same shape as input tv0 for test case"
        }
       ],
       "scored": true,
       "setup": "",
       "teardown": "",
       "type": "doctest"
      }
     ]
    },
    "reconstruct_q1c": {
     "name": "reconstruct_q1c",
     "points": null,
     "suites": [
      {
       "cases": [
        {
         "code": ">>> assert tv.shape==xvr.shape\n",
         "failure_message": "xvr does not have same shape as tv",
         "hidden": false,
         "locked": false,
         "points": 1,
         "success_message": "xvr has same shape as tv"
        },
        {
         "code": ">>> assert (np.abs(xvr[0]-xvs[0])<1e-5) & (np.abs(xvr[-1]-xvs[-1])<1e-5)\n",
         "failure_message": "xvr does not have correct start and end valuess",
         "hidden": false,
         "locked": false,
         "points": 1,
         "success_message": "xvr has correct start and end values"
        }
       ],
       "scored": true,
       "setup": "",
       "teardown": "",
       "type": "doctest"
      }
     ]
    },
    "reconstruct_q1d": {
     "name": "reconstruct_q1d",
     "points": null,
     "suites": [
      {
       "cases": [
        {
         "code": ">>> \n>>> def b1v_values_test(tv,T):\n...     b1v = 1 - np.abs(tv)/T\n...     b1v[b1v<0] = 0\n...     return b1v\n>>> \n>>> tvb = np.linspace(-2*T,2*T,1000)\n>>> b1vb = b1v_values(tvb,T)\n>>> b1vb_test = b1v_values_test(tvb,T)\n>>> assert np.max(np.abs(b1vb-b1vb_test))<1e-5\nTrue",
         "failure_message": "function b1v_values not returning correct values for test case",
         "hidden": false,
         "locked": false,
         "points": 1,
         "success_message": "function b1v_values returning correct values for test case"
        },
        {
         "code": ">>> assert xv1r.shape==tv.shape\n",
         "failure_message": "xv1r does not have same shape as tv",
         "hidden": false,
         "locked": false,
         "points": 1,
         "success_message": "xv1r has same shape as tv"
        },
        {
         "code": ">>> assert (np.abs(xv1r[0]-xvs[0])<1e-5) & (np.abs(xv1r[-1]-xvs[-1])<1e-5)\n",
         "failure_message": "xv1r does not have correct start and end valuess",
         "hidden": false,
         "locked": false,
         "points": 1,
         "success_message": "xv1r has correct start and end values"
        }
       ],
       "scored": true,
       "setup": "",
       "teardown": "",
       "type": "doctest"
      }
     ]
    }
   }
  }
 },
 "nbformat": 4,
 "nbformat_minor": 5
}
