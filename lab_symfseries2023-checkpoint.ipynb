{
 "cells": [
  {
   "cell_type": "code",
   "execution_count": 4,
   "id": "5aecf40c",
   "metadata": {
    "deletable": false,
    "editable": false
   },
   "outputs": [],
   "source": [
    "# Initialize Otter\n",
    "import otter\n",
    "grader = otter.Notebook(\"lab_symfseries2023.ipynb\")"
   ]
  },
  {
   "cell_type": "markdown",
   "id": "87a65036",
   "metadata": {},
   "source": [
    "# Assignment"
   ]
  },
  {
   "cell_type": "markdown",
   "id": "034a4c13",
   "metadata": {},
   "source": [
    "***\n",
    "**Task**:  Use symbolic processing to find and plot the frequency-domain representation of $x_2(t)$ below over the range $k=-8, \\ldots, 8$:"
   ]
  },
  {
   "attachments": {
    "31ca7046-b207-4be3-8069-22bf10b85dc0.png": {
     "image/png": "[encoded data removed]"
    }
   },
   "cell_type": "markdown",
   "id": "6ff7315b",
   "metadata": {},
   "source": [
    "![tripulsetrain.png](attachment:31ca7046-b207-4be3-8069-22bf10b85dc0.png)"
   ]
  },
  {
   "cell_type": "markdown",
   "id": "5e7ad80b",
   "metadata": {},
   "source": [
    "Also plot the reconstruction over the range $t=-4$ to $t=4$ using only components up to and including the $5$th harmonic.\n",
    "***"
   ]
  },
  {
   "cell_type": "markdown",
   "id": "3be6e9f1",
   "metadata": {},
   "source": [
    "First import numerical and plotting libraries:"
   ]
  },
  {
   "cell_type": "code",
   "execution_count": 5,
   "id": "aa227e7d",
   "metadata": {},
   "outputs": [],
   "source": [
    "import numpy as np\n",
    "import matplotlib.pyplot as plt"
   ]
  },
  {
   "cell_type": "markdown",
   "id": "9d13b5e0",
   "metadata": {},
   "source": [
    "The function $x_2(t)$ above can be written as a Fourier series\n",
    "$$x_2(t) = \\sum_{k=-\\infty}^{\\infty} c_k e^{j k \\pi t}$$ with coefficients are given by\n",
    "$$c_k = \\frac{1}{2} \\int_0^2 x_2(t) e^{-j k \\pi t} dt$$.\n",
    "\n",
    "*By hand*, find an expression for the coefficients $c_k$.  If you do this from first principles you will likely need to use integration by parts, but you might find a simpler \"shortcut\" using some transformed signal."
   ]
  },
  {
   "cell_type": "markdown",
   "id": "2f7f066f",
   "metadata": {},
   "source": [
    "In the function below, insert the code required to calculate the coefficient values $c_k$ corresponding to each value of $k$ given in the vector `kv`.  The returned output `ckv` must be the same size as `kv` and should be comprised of 64-bit complex numbers (numpy.complex64).  If any element of `kv` is not an integer then the corresponding element of the output should be `NaN`.  "
   ]
  },
  {
   "cell_type": "code",
   "execution_count": 3,
   "id": "7aa62a4e",
   "metadata": {
    "tags": []
   },
   "outputs": [],
   "source": [
    "def getcoeffs(kv):\n",
    "    \"\"\"Calculate and return Fourier series coefficients for x2(t)\n",
    "    kv - input vector of values of k for which series coefficients are required\n",
    "    ckv - corresponding output vector of series coefficients\n",
    "    \"\"\"\n",
    "    ...\n",
    "    return ckv"
   ]
  },
  {
   "cell_type": "code",
   "execution_count": null,
   "id": "0cacfaf9",
   "metadata": {},
   "outputs": [],
   "source": [
    "# Test case\n",
    "kv = np.array((-1,-0.5,0,1,2,3))\n",
    "ckv = getcoeffs(kv)"
   ]
  },
  {
   "cell_type": "code",
   "execution_count": null,
   "id": "b643e87b",
   "metadata": {
    "deletable": false,
    "editable": false
   },
   "outputs": [],
   "source": [
    "grader.check(\"symfseries_q2a\")"
   ]
  },
  {
   "cell_type": "markdown",
   "id": "89d61723",
   "metadata": {},
   "source": [
    "Using your function above the Fourier series coefficients can be plotted over a desired range:"
   ]
  },
  {
   "cell_type": "code",
   "execution_count": null,
   "id": "ff83d3dc",
   "metadata": {},
   "outputs": [],
   "source": [
    "M = 5\n",
    "kv = np.arange(-M,M+1)\n",
    "ckv = getcoeffs(kv)\n",
    "fh, ax = plt.subplots(2);\n",
    "ax[0].stem(kv, np.abs(ckv), 'g');  ax[0].set_ylabel(r'$|c_k|$');\n",
    "ax[1].stem(kv, np.angle(ckv), 'g');  ax[1].set_ylabel(r'$\\angle c_k$');\n",
    "plt.xlabel('$k$');"
   ]
  },
  {
   "cell_type": "markdown",
   "id": "67c8ef35",
   "metadata": {},
   "source": [
    "Assuming all the rest zero, the coefficients above define a signal\n",
    "$$\n",
    "\\hat{x}_2^M(t) = \\sum_{-M}^{M} c_k e^{j k \\pi t}\n",
    "$$\n",
    "For large $M$ large enough this should approximately equal $x_2(t)$.  \n",
    "\n",
    "For quite small $M$ the formula above should provide a good approximation to $x_2(t)$ since $|c_k|$ tends to zero quite quickly as $k$ increases.  This means that we can effectively represent the signal $x_2(t)$ using a small set of coefficients around $k=0$."
   ]
  },
  {
   "cell_type": "code",
   "execution_count": null,
   "id": "1409f2cd",
   "metadata": {},
   "outputs": [],
   "source": [
    "def fsrrec(kv,ckv,omega0,tv):\n",
    "    \"\"\"Generate samples from real Fourier series representation\n",
    "    kv,ckv - Fourier series vector of coefficients (ck) for each integer (k)\n",
    "    omega0 - fundamental frequency\n",
    "    tv - input time domain points for calculating reconstruction value  \n",
    "    returns xv - output values for each input time domain point\n",
    "    \"\"\"\n",
    "    xv = np.zeros(tv.shape);\n",
    "    for i in range(1,len(kv)):\n",
    "        xv = xv + ckv[i]*np.exp(1j*kv[i]*omega0*tv);  # accumulate current term\n",
    "\n",
    "    return(np.real(xv));  # only correct if signal is actually real!\n",
    "# end def"
   ]
  },
  {
   "cell_type": "markdown",
   "id": "32367e04",
   "metadata": {},
   "source": [
    "Using the coefficients calculated by the `getcoeffs()` function defined above we can plot an approximate reconstruction of the signal.  This should look almost like the original signal but with high-frequency components (usually the ones needed for fast signal transitions) absent.  "
   ]
  },
  {
   "cell_type": "code",
   "execution_count": null,
   "id": "f423b84e",
   "metadata": {},
   "outputs": [],
   "source": [
    "T = 2;\n",
    "omega0 = 2*np.pi/T;\n",
    "tv = np.linspace(-4,4,20000)\n",
    "xv = fsrrec(kv,ckv,omega0,tv)\n",
    "plt.plot(tv,xv,'r');\n",
    "plt.xlabel('t');\n",
    "plt.ylabel('Signal reconstruction $x_2^5(t)$');"
   ]
  },
  {
   "cell_type": "markdown",
   "id": "d0079863",
   "metadata": {},
   "source": [
    "---"
   ]
  },
  {
   "cell_type": "markdown",
   "id": "6dbe7991",
   "metadata": {},
   "source": [
    "The function $\\hat{x}_2^M(t)$ above approximates $x_2(t)$ as long as $M$ is large (specifically as $M \\to \\infty$). Technically we should have\n",
    "$$\\lim_{M \\to \\infty} | \\hat{x}_2^M(t) - x_2(t)|^2 = 0,$$\n",
    "so for large $M$ we have $\\hat{x}_2^M(t) \\approx x_2(t)$ for all values of $t$.  The quality of this approximate reconstruction depends on $M$ (the number of terms) and gets better as $M$ increases.  "
   ]
  },
  {
   "cell_type": "markdown",
   "id": "5a8e4882",
   "metadata": {},
   "source": [
    "To explore the dependence of this reconstruction on $M$ consider a time instant $t=1$.  The true signal value is $x_2(1)=1$.  In the block below calculate the reconstructed value $x_2^M(1)$ for all values of $M$ in the vector `Mv`, and store the result in the variable `x2Mv`.  You should use the function `fsrrec` above."
   ]
  },
  {
   "cell_type": "code",
   "execution_count": null,
   "id": "05d3400e",
   "metadata": {
    "tags": []
   },
   "outputs": [],
   "source": [
    "Mv = np.arange(0,11)  # values of M\n",
    "tp = np.array(1);  # single time point to evaluate\n",
    "x2Mv = np.empty(Mv.size)  # corresponding values of x2(tp) reconstructed from M terms\n",
    "for i in range(0,len(Mv)):\n",
    "    M = Mv[i]\n",
    "    ...\n",
    "    x2Mv[i] = ..."
   ]
  },
  {
   "cell_type": "markdown",
   "id": "f59973f9",
   "metadata": {},
   "source": [
    "Below is a plot of calculated $x_2^M(1)$ versus $M$.  As $M$ gets large this should approach $x_2(1)=1$."
   ]
  },
  {
   "cell_type": "code",
   "execution_count": null,
   "id": "9643ae60",
   "metadata": {},
   "outputs": [],
   "source": [
    "# Generate required plot\n",
    "plt.plot(Mv,x2Mv)\n",
    "plt.xlabel('M');  \n",
    "plt.ylabel('$x_2^M(1)$');"
   ]
  },
  {
   "cell_type": "code",
   "execution_count": null,
   "id": "bc765bf9",
   "metadata": {
    "deletable": false,
    "editable": false
   },
   "outputs": [],
   "source": [
    "grader.check(\"symfseries_q2b\")"
   ]
  },
  {
   "cell_type": "markdown",
   "id": "4a7e5f84",
   "metadata": {},
   "source": [
    "---"
   ]
  },
  {
   "cell_type": "markdown",
   "id": "d9bfa975",
   "metadata": {},
   "source": [
    "Instead of calculating the Fourier series coefficients by hand we can do it using symbolic computation.  We first import the `sympy` package and instantiate the \"pretty printing' mode for the `display` function."
   ]
  },
  {
   "cell_type": "code",
   "execution_count": null,
   "id": "85214025",
   "metadata": {},
   "outputs": [],
   "source": [
    "import sympy as sp\n",
    "sp.init_printing();  # pretty printing"
   ]
  },
  {
   "cell_type": "markdown",
   "id": "73b251a6",
   "metadata": {},
   "source": [
    "The given function can be defined piecewise using the symbolic math library function `sp.Piecewise`:"
   ]
  },
  {
   "cell_type": "code",
   "execution_count": null,
   "id": "e75cdb3e",
   "metadata": {},
   "outputs": [],
   "source": [
    "# Define symbolic signal over a single period\n",
    "Tp = 2;  # period\n",
    "t = sp.symbols('t')  # declare symbolic time variable\n",
    "x = sp.Piecewise( (1, t<=-1), (-t, t<0), (t, t<1), (1, True));\n",
    "#display(x)\n",
    "#sp.plot(x,(t,-1,1));  # symbolic plot"
   ]
  },
  {
   "cell_type": "markdown",
   "id": "2f6539d6",
   "metadata": {},
   "source": [
    "The coefficients for the Fourier series expansion can be calculated using the expression\n",
    "$$c_k = \\frac{1}{T} \\int_{-T/2}^{T/2} x(t) e^{-j k \\omega_0 t} dt.$$\n",
    "In the code block below use the `sp.integrate` function to define a symbolic expression for the right-hand side of this equation, and store it in `cke`.  It will depend on the symbolic variables `t`, `T`, `k`, `w0`, and the symbolic function `x(t)`."
   ]
  },
  {
   "cell_type": "code",
   "execution_count": null,
   "id": "3af7b87b",
   "metadata": {
    "tags": []
   },
   "outputs": [],
   "source": [
    "# Define symbolic integral for coefficients\n",
    "T, k, w0 = sp.symbols('T k w0');\n",
    "xt = sp.Function(\"x\")(t);  # x(t)\n",
    "expt = sp.exp(-1j*k*w0*t);\n",
    "# The line below should define the symbolic integral required for the coefficient values\n",
    "cke = ...\n",
    "display(cke)"
   ]
  },
  {
   "cell_type": "markdown",
   "id": "b7b383dd",
   "metadata": {},
   "source": [
    "We can substitute required quantities into the symbolic variables as needed.  The result should be a symbolic expression that only depends on the symbolic variable `k`."
   ]
  },
  {
   "cell_type": "code",
   "execution_count": null,
   "id": "e9ecf6a2",
   "metadata": {},
   "outputs": [],
   "source": [
    "# Substitute and evaluate\n",
    "ck = cke.subs(w0,2*sp.pi/T).doit();\n",
    "ck = ck.subs(T,Tp).doit();  # set value for period and evaluate\n",
    "ck = ck.subs(xt,x).doit()\n",
    "display(ck)"
   ]
  },
  {
   "cell_type": "markdown",
   "id": "f75b40b4",
   "metadata": {},
   "source": [
    "The final symbolic expression can be used to calculate numerical values of the coefficients by substituting and evaluating.  These values should be the same as the ones calculated by hand before."
   ]
  },
  {
   "cell_type": "code",
   "execution_count": null,
   "id": "f9da30cb",
   "metadata": {},
   "outputs": [],
   "source": [
    "# Get coefficients for components up to fifth harmonic\n",
    "M = 5\n",
    "kv = np.arange(-M,M+1);  # coefficients to calculate\n",
    "ckvs = np.zeros(kv.shape, dtype=np.complex64);  # corresponding coefficient values\n",
    "for i in range(len(kv)):\n",
    "    ki = kv[i];  \n",
    "    ckvs[i] = ck.subs({k:ki}).evalf();"
   ]
  },
  {
   "cell_type": "markdown",
   "id": "156a2c67",
   "metadata": {},
   "source": [
    "The plot of the Fourier series magnitudes and phases again tells you a lot about the signal.  Note that a complex number with a zero magnitude has an arbitrary phase, so the phase correspoinding to a point with zero magnitude means nothing."
   ]
  },
  {
   "cell_type": "code",
   "execution_count": null,
   "id": "ecdd46f2",
   "metadata": {},
   "outputs": [],
   "source": [
    "fh, ax = plt.subplots(2);\n",
    "ax[0].stem(kv, np.abs(ckvs), 'g');  ax[0].set_ylabel(r'$|c_k|$');\n",
    "ax[1].stem(kv, np.angle(ckvs), 'g');  ax[1].set_ylabel(r'$\\angle c_k$');\n",
    "plt.xlabel('$k$');"
   ]
  },
  {
   "cell_type": "code",
   "execution_count": null,
   "id": "10589423",
   "metadata": {
    "deletable": false,
    "editable": false
   },
   "outputs": [],
   "source": [
    "grader.check(\"symfseries_q2c\")"
   ]
  },
  {
   "cell_type": "markdown",
   "id": "53679c39",
   "metadata": {
    "deletable": false,
    "editable": false
   },
   "source": [
    "## Submission\n",
    "\n",
    "Make sure you have run all cells in your notebook in order before running the cell below, so that all images/graphs appear in the output. The cell below will generate a zip file for you to submit. **Please save before exporting!**"
   ]
  },
  {
   "cell_type": "code",
   "execution_count": null,
   "id": "91176bab",
   "metadata": {
    "deletable": false,
    "editable": false
   },
   "outputs": [],
   "source": [
    "# Save your notebook first, then run this cell to export your submission.\n",
    "grader.export(pdf=False, run_tests=True)"
   ]
  },
  {
   "cell_type": "markdown",
   "id": "3757d5d6",
   "metadata": {},
   "source": [
    " "
   ]
  }
 ],
 "metadata": {
  "kernelspec": {
   "display_name": "Python 3 (ipykernel)",
   "language": "python",
   "name": "python3"
  },
  "language_info": {
   "codemirror_mode": {
    "name": "ipython",
    "version": 3
   },
   "file_extension": ".py",
   "mimetype": "text/x-python",
   "name": "python",
   "nbconvert_exporter": "python",
   "pygments_lexer": "ipython3",
   "version": "3.11.3"
  },
  "otter": {
   "OK_FORMAT": true,
   "assignment_name": "symfseries_q2",
   "tests": {
    "symfseries_q2a": {
     "name": "symfseries_q2a",
     "points": null,
     "suites": [
      {
       "cases": [
        {
         "code": ">>> kv.size==ckv.size\nTrue",
         "failure_message": "Shape of output vector does not equal shape of input",
         "hidden": false,
         "locked": false,
         "points": 1,
         "success_message": "Shape of output vector equals shape of input"
        },
        {
         "code": ">>> ckv.dtype==np.dtype('complex64')\nTrue",
         "failure_message": "Type of output vector is not numpy.dtype('complex64')",
         "hidden": false,
         "locked": false,
         "points": 1,
         "success_message": "Type of output vector is numpy.dtype('complex64')"
        },
        {
         "code": ">>> kind = kv!=np.round(kv)\n>>> np.all(np.isnan(ckv)==kind)==True\nTrue",
         "failure_message": "Output is not NaN for invalid input elements",
         "hidden": false,
         "locked": false,
         "points": 1,
         "success_message": "Output is NaN for invalid input elements"
        }
       ],
       "scored": true,
       "setup": "",
       "teardown": "",
       "type": "doctest"
      }
     ]
    },
    "symfseries_q2b": {
     "name": "symfseries_q2b",
     "points": null,
     "suites": [
      {
       "cases": [
        {
         "code": ">>> Mv.size==x2Mv.size\nTrue",
         "failure_message": "Size of x2Mv is not equal to size of Mv",
         "hidden": false,
         "locked": false,
         "points": 1,
         "success_message": "Size of x2Mv is equal to size of Mv"
        }
       ],
       "scored": true,
       "setup": "",
       "teardown": "",
       "type": "doctest"
      }
     ]
    },
    "symfseries_q2c": {
     "name": "symfseries_q2c",
     "points": null,
     "suites": [
      {
       "cases": [
        {
         "code": ">>> type(cke)==sp.core.mul.Mul\nTrue",
         "failure_message": "Variable cke does not have correct (symbolic) type",
         "hidden": false,
         "locked": false,
         "points": 0,
         "success_message": "Variable cke has correct (symbolic) type"
        },
        {
         "code": ">>> len(ck.free_symbols)==1\nTrue",
         "failure_message": "Variable ck does not have correct number of free symbolic variables",
         "hidden": false,
         "locked": false,
         "points": 0,
         "success_message": "Variable ck has correct number of free symbolic variables"
        },
        {
         "code": ">>> ckv.shape==ckvs.shape\nTrue",
         "failure_message": "Variables ckv and ckvs are not same size",
         "hidden": false,
         "locked": false,
         "points": 0,
         "success_message": "Variables ckv and ckvs are same size"
        },
        {
         "code": ">>> np.max(np.abs(ckv-ckvs))<1e-6\nTrue",
         "failure_message": "Variables ckv and ckvs are not equal",
         "hidden": false,
         "locked": false,
         "points": 0,
         "success_message": "Variables ckv and ckvs are equal"
        }
       ],
       "scored": true,
       "setup": "",
       "teardown": "",
       "type": "doctest"
      }
     ]
    }
   }
  }
 },
 "nbformat": 4,
 "nbformat_minor": 5
}
