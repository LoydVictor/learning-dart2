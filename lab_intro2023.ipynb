{
 "cells": [
  {
   "cell_type": "code",
   "execution_count": 10,
   "metadata": {
    "deletable": false,
    "editable": false
   },
   "outputs": [],
   "source": [
    "# Initialize Otter\n",
    "import otter\n",
    "grader = otter.Notebook(\"lab_intro2023.ipynb\")"
   ]
  },
  {
   "cell_type": "markdown",
   "metadata": {},
   "source": [
    "# Lab 1:  Introduction"
   ]
  },
  {
   "cell_type": "markdown",
   "metadata": {},
   "source": [
    "## Basic Jupyter usage\n",
    "\n",
    "A notebook is basically composed of cells.  A cell can contain text (\"markdown\") or code, in this case Python.  For any cell you can select the content type using the pulldown on the menubar.  A cell can be executed by pressing shift-enter while it is in focus.\n",
    "\n",
    "Below is a cell that creates two numpy arrays.  The values in `xv` are initialised to be a particular function of `tv`.  Select it and press shift-enter to run the code in the Python kernel attached to the notebook.  Change the number of points in `tv` and press shift-enter again to run, and note the change in output."
   ]
  },
  {
   "cell_type": "code",
   "execution_count": 11,
   "metadata": {},
   "outputs": [
    {
     "name": "stdout",
     "output_type": "stream",
     "text": [
      "[-1.         -0.32020923  1.10014808  2.09278512  2.24005852  2.3396668\n",
      "  3.51707674  5.97325259  8.76104957 10.83907153]\n"
     ]
    }
   ],
   "source": [
    "import numpy as np\n",
    "\n",
    "tv = np.linspace(0, 10, 10)\n",
    "xv = 0.1*tv**2 - np.cos(tv)\n",
    "print(xv)"
   ]
  },
  {
   "cell_type": "markdown",
   "metadata": {},
   "source": [
    "The Python kernel is fully-featured for numeric computation, and includes most of the packages useful for scientific computing.  The following code plots the vectors defined above using \"matplotlib\"."
   ]
  },
  {
   "cell_type": "code",
   "execution_count": 12,
   "metadata": {},
   "outputs": [
    {
     "data": {
      "image/png": "[encoded data removed]",
      "text/plain": [
       "<Figure size 640x480 with 1 Axes>"
      ]
     },
     "metadata": {},
     "output_type": "display_data"
    }
   ],
   "source": [
    "import matplotlib.pyplot as plt  # import matplotlib for plotting\n",
    "#%matplotlib notebook\n",
    "\n",
    "plt.plot(tv, xv, 'ro-')  # plot x vs t using red circular dots connected by lines\n",
    "plt.xlabel('t');  plt.ylabel('x(t)');  # labels for axes"
   ]
  },
  {
   "cell_type": "markdown",
   "metadata": {},
   "source": [
    "When you execute the code above it runs it in the Python kernel for the notebook, which already has the variables `tv` and `xv` defined.  This can cause problems:  if you jump around the notebook running cells in some arbitrary order then the kernel will probably end up in a weird state.  If this happens then you can use the menu item \"Cell\" -> \"Run All\" to reexecute all cells in the notebook in order.  If things really go wrong then restart the kernel.\n",
    "\n",
    "Executing a text or markdown cell has a different effect:  the content is converted and rendered as rich text.  The markdown language is documented all over the internet, and supports both HTML and LaTeX equations.  Do a web search if you want details or introductions to these topics."
   ]
  },
  {
   "cell_type": "markdown",
   "metadata": {},
   "source": [
    "## Gaining familiarity\n",
    "\n",
    "One of the nice things about Python is that there's an active community of technical people that provide useful information and resources.  If you don't know how to do something, then a simple web search can quickly help.\n",
    "\n",
    "This section points you towards some resources that might help in getting you familiar with basic mathematical functionality.  Take a look at what's available, or find any other resources you prefer.  Youtube videos are also an option.\n",
    "\n",
    "There's a basic numerical Python tutorial at http://cs231n.github.io/python-numpy-tutorial, and a Python notebook version at https://github.com/kuleshov/cs228-material/blob/master/tutorials/python/cs228-python-tutorial.ipynb.  A copy of this notebook that has been updated for Python 3 is included in the \"examples\" directory of your \"notebooks\" folder.  Load this notebook and work through the cells.  Make changes to the contents, and press \"shift-enter\" to run and see the corresponding outputs.  Pay particular attention to how to use numpy arrays, and how to plot using matplotlib.\n",
    "\n",
    "Possibly the best place to find resources is the Scipy homege:  https://www.scipy.org/getting-started.html.\n",
    "\n",
    "You can also access function help in Jupyter notebook.  If you remove the comment modifier \"#\" in the cell below and run it, for example, a help window for the matplotlib.pyplot.plot() function should pop up."
   ]
  },
  {
   "cell_type": "code",
   "execution_count": 13,
   "metadata": {
    "tags": []
   },
   "outputs": [],
   "source": [
    "import matplotlib.pyplot as plt\n",
    "#?plt.plot"
   ]
  },
  {
   "cell_type": "markdown",
   "metadata": {},
   "source": [
    "## Sample tasks\n",
    "\n",
    "These tasks involve writing code, or modifying existing code, to meet the objectives described.\n",
    "\n",
    "1.  Create a plot of $x^2 \\sin(\\frac{1}{x^2}) + x$ on the interval $[−1,1]$ using $250$ points. Remember to label the axes.<br><br>\n",
    "\n",
    "2.  We often need to plot complex-valued signals, where for each value of $t$ there is a real and an imaginary value, or a magnitude and a phase.  We therefore need two sets of axes.  Use the `subplot` functionality of `matplotlib.pyplot` to plot the real and imaginary parts of the signal $x(t) = e^{j \\omega_0 t}$ in a single figure, but on two separate axes.  Use a value of $\\omega_0 = 2$ and make the plot range over $t=0$ to $t=10$.<br><br>\n",
    "\n",
    "3.  Most of signal processing involves applying a recursive relationship to some given data.  This course concentrates on continuous-time signals, but equivalent processes can be applied in the digital case.  Consider the recursive equation $x[n] = -0.98 x[n-1]$.  Create a numpy array with 100 elements for each of the values $x[0]$ to $x[99]$, and write code to populate it assuming the initial condition $x[0] = 10$.  Use `stem` to make a plot of $x[n]$ versus $n$ over the range calculated.<br><br>\n",
    "\n",
    "4.  Create a surface plot of $\\sin(x) \\sin(y)$ on the domain $[-\\pi,\\pi] \\times [-\\pi,\\pi]$."
   ]
  },
  {
   "cell_type": "markdown",
   "metadata": {},
   "source": [
    "***"
   ]
  },
  {
   "cell_type": "code",
   "execution_count": null,
   "metadata": {},
   "outputs": [],
   "source": []
  },
  {
   "cell_type": "markdown",
   "metadata": {},
   "source": [
    "# Assignment"
   ]
  },
  {
   "cell_type": "markdown",
   "metadata": {},
   "source": [
    "***\n",
    "**Task**:  Create a plot of $x^2 \\sin(\\frac{1}{x^2}) + x$ on the interval $[−1,1]$ using $250$ points. Remember to label the axes.\n",
    "***"
   ]
  },
  {
   "cell_type": "markdown",
   "metadata": {},
   "source": [
    "First import numerical and plotting libraries:"
   ]
  },
  {
   "cell_type": "code",
   "execution_count": 14,
   "metadata": {
    "tags": []
   },
   "outputs": [],
   "source": [
    "import numpy as np\n",
    "import matplotlib.pyplot as plt"
   ]
  },
  {
   "cell_type": "markdown",
   "metadata": {},
   "source": [
    "You can get some documentation regarding the `plt` function as follows.  You can see that it takes as arguments two equal sized vectors containing pairs of corresponding (x,y) values."
   ]
  },
  {
   "cell_type": "code",
   "execution_count": null,
   "metadata": {},
   "outputs": [],
   "source": [
    "?plt"
   ]
  },
  {
   "cell_type": "markdown",
   "metadata": {},
   "source": [
    "To make the plot we're first going to generate a vector of values where the function to be plotted will be evaluated. The code below makes 10 values over the required interval and stores it in the variable `xv10`: "
   ]
  },
  {
   "cell_type": "markdown",
   "metadata": {},
   "source": [
    "The task explicitly specifies that 250 points should be used.  Modify the code block below to generate the required values in the variable `xv`.  The vector that you generate should start at -1, end at 1, and have 250 elements with equal positive spacing between them.  You might want to investigate and use the `np.linspace` function."
   ]
  },
  {
   "cell_type": "code",
   "execution_count": 15,
   "metadata": {
    "tags": []
   },
   "outputs": [
    {
     "name": "stdout",
     "output_type": "stream",
     "text": [
      "[-1.         -0.99196787 -0.98393574 -0.97590361 -0.96787149 -0.95983936\n",
      " -0.95180723 -0.9437751  -0.93574297 -0.92771084 -0.91967871 -0.91164659\n",
      " -0.90361446 -0.89558233 -0.8875502  -0.87951807 -0.87148594 -0.86345382\n",
      " -0.85542169 -0.84738956 -0.83935743 -0.8313253  -0.82329317 -0.81526104\n",
      " -0.80722892 -0.79919679 -0.79116466 -0.78313253 -0.7751004  -0.76706827\n",
      " -0.75903614 -0.75100402 -0.74297189 -0.73493976 -0.72690763 -0.7188755\n",
      " -0.71084337 -0.70281124 -0.69477912 -0.68674699 -0.67871486 -0.67068273\n",
      " -0.6626506  -0.65461847 -0.64658635 -0.63855422 -0.63052209 -0.62248996\n",
      " -0.61445783 -0.6064257  -0.59839357 -0.59036145 -0.58232932 -0.57429719\n",
      " -0.56626506 -0.55823293 -0.5502008  -0.54216867 -0.53413655 -0.52610442\n",
      " -0.51807229 -0.51004016 -0.50200803 -0.4939759  -0.48594378 -0.47791165\n",
      " -0.46987952 -0.46184739 -0.45381526 -0.44578313 -0.437751   -0.42971888\n",
      " -0.42168675 -0.41365462 -0.40562249 -0.39759036 -0.38955823 -0.3815261\n",
      " -0.37349398 -0.36546185 -0.35742972 -0.34939759 -0.34136546 -0.33333333\n",
      " -0.3253012  -0.31726908 -0.30923695 -0.30120482 -0.29317269 -0.28514056\n",
      " -0.27710843 -0.26907631 -0.26104418 -0.25301205 -0.24497992 -0.23694779\n",
      " -0.22891566 -0.22088353 -0.21285141 -0.20481928 -0.19678715 -0.18875502\n",
      " -0.18072289 -0.17269076 -0.16465863 -0.15662651 -0.14859438 -0.14056225\n",
      " -0.13253012 -0.12449799 -0.11646586 -0.10843373 -0.10040161 -0.09236948\n",
      " -0.08433735 -0.07630522 -0.06827309 -0.06024096 -0.05220884 -0.04417671\n",
      " -0.03614458 -0.02811245 -0.02008032 -0.01204819 -0.00401606  0.00401606\n",
      "  0.01204819  0.02008032  0.02811245  0.03614458  0.04417671  0.05220884\n",
      "  0.06024096  0.06827309  0.07630522  0.08433735  0.09236948  0.10040161\n",
      "  0.10843373  0.11646586  0.12449799  0.13253012  0.14056225  0.14859438\n",
      "  0.15662651  0.16465863  0.17269076  0.18072289  0.18875502  0.19678715\n",
      "  0.20481928  0.21285141  0.22088353  0.22891566  0.23694779  0.24497992\n",
      "  0.25301205  0.26104418  0.26907631  0.27710843  0.28514056  0.29317269\n",
      "  0.30120482  0.30923695  0.31726908  0.3253012   0.33333333  0.34136546\n",
      "  0.34939759  0.35742972  0.36546185  0.37349398  0.3815261   0.38955823\n",
      "  0.39759036  0.40562249  0.41365462  0.42168675  0.42971888  0.437751\n",
      "  0.44578313  0.45381526  0.46184739  0.46987952  0.47791165  0.48594378\n",
      "  0.4939759   0.50200803  0.51004016  0.51807229  0.52610442  0.53413655\n",
      "  0.54216867  0.5502008   0.55823293  0.56626506  0.57429719  0.58232932\n",
      "  0.59036145  0.59839357  0.6064257   0.61445783  0.62248996  0.63052209\n",
      "  0.63855422  0.64658635  0.65461847  0.6626506   0.67068273  0.67871486\n",
      "  0.68674699  0.69477912  0.70281124  0.71084337  0.7188755   0.72690763\n",
      "  0.73493976  0.74297189  0.75100402  0.75903614  0.76706827  0.7751004\n",
      "  0.78313253  0.79116466  0.79919679  0.80722892  0.81526104  0.82329317\n",
      "  0.8313253   0.83935743  0.84738956  0.85542169  0.86345382  0.87148594\n",
      "  0.87951807  0.8875502   0.89558233  0.90361446  0.91164659  0.91967871\n",
      "  0.92771084  0.93574297  0.9437751   0.95180723  0.95983936  0.96787149\n",
      "  0.97590361  0.98393574  0.99196787  1.        ]\n"
     ]
    }
   ],
   "source": [
    "xv = np.linspace(-1,1,250)\n",
    "print(xv)"
   ]
  },
  {
   "cell_type": "code",
   "execution_count": 16,
   "metadata": {
    "deletable": false,
    "editable": false
   },
   "outputs": [
    {
     "data": {
      "text/html": [
       "<p><strong><pre style='display: inline;'>intro_q1a</pre></strong> passed! 🍀</p><p><strong><pre style='display: inline;'>intro_q1a - 1</pre> message:</strong> Vector has required length</p>"
      ],
      "text/plain": [
       "intro_q1a results: All test cases passed!\n",
       "intro_q1a - 1 message: Vector has required length"
      ]
     },
     "execution_count": 16,
     "metadata": {},
     "output_type": "execute_result"
    }
   ],
   "source": [
    "grader.check(\"intro_q1a\")"
   ]
  },
  {
   "cell_type": "markdown",
   "metadata": {},
   "source": [
    "We now want to generate the function values `yv` corresponding to the elements of `xv`.  This could be done inline in code, but instead we'll write a function called `calcfunvals` that takes the vector `xv`, and calculates and returns the values `yv` corresponding to the formula given.  Add the required code to the block below.  The output of your function must be the same size as the input and should have the same data type.  Try to avoid using a `for` loop, which can be inefficient in Python."
   ]
  },
  {
   "cell_type": "code",
   "execution_count": 17,
   "metadata": {
    "tags": []
   },
   "outputs": [
    {
     "name": "stdout",
     "output_type": "stream",
     "text": [
      "[-0.15852902 -0.15542534 -0.15250763 -0.14978387 -0.14726242 -0.14495201\n",
      " -0.14286177 -0.14100123 -0.13938036 -0.13800956 -0.13689968 -0.13606206\n",
      " -0.13550852 -0.13525135 -0.13530341 -0.13567803 -0.13638911 -0.13745107\n",
      " -0.13887889 -0.1406881  -0.14289477 -0.14551553 -0.14856751 -0.15206838\n",
      " -0.15603627 -0.16048977 -0.16544787 -0.17092989 -0.17695544 -0.18354427\n",
      " -0.1907162  -0.19849096 -0.20688805 -0.2159265  -0.22562469 -0.23599999\n",
      " -0.24706854 -0.25884476 -0.27134098 -0.28456687 -0.29852889 -0.31322954\n",
      " -0.32866658 -0.34483213 -0.36171161 -0.37928256 -0.39751327 -0.41636131\n",
      " -0.43577181 -0.45567559 -0.47598709 -0.49660211 -0.5173954  -0.53821805\n",
      " -0.5588948  -0.57922134 -0.59896162 -0.61784539 -0.63556616 -0.65177978\n",
      " -0.66610407 -0.6781199  -0.68737434 -0.69338649 -0.69565702 -0.69368229\n",
      " -0.68697432 -0.67508783 -0.65765558 -0.63443321 -0.60535402 -0.57059362\n",
      " -0.53064242 -0.48638178 -0.43915587 -0.39082639 -0.34379073 -0.30093675\n",
      " -0.26550021 -0.24078612 -0.22971878 -0.2342042  -0.25433381 -0.28754239\n",
      " -0.32796268 -0.36638139 -0.39133946 -0.39189652 -0.3621609  -0.306594\n",
      " -0.24327194 -0.20047381 -0.20251341 -0.2474722  -0.29395354 -0.2853183\n",
      " -0.21678822 -0.17223427 -0.21652254 -0.24518907 -0.17212969 -0.18143658\n",
      " -0.20411012 -0.14719614 -0.18440225 -0.15472986 -0.12727811 -0.13383232\n",
      " -0.12593019 -0.10909977 -0.1299562  -0.11107282 -0.11018972 -0.09938442\n",
      " -0.07933592 -0.07128485 -0.06459868 -0.06308398 -0.05046012 -0.04480052\n",
      " -0.03731134 -0.0275823  -0.02047126 -0.01197699 -0.00403212  0.00400001\n",
      "  0.0121194   0.01968938  0.0286426   0.03497782  0.04355289  0.05395755\n",
      "  0.05739794  0.0719475   0.0813256   0.08933878  0.08535454  0.09061349\n",
      "  0.10579465  0.10297553  0.13989621  0.13913005  0.14729218  0.16991064\n",
      "  0.15852315  0.14491502  0.19818539  0.15733566  0.19607346  0.22144461\n",
      "  0.16444949  0.20918027  0.2695328   0.24104311  0.18857728  0.1960063\n",
      "  0.25855189  0.31957494  0.3376788   0.31094493  0.26368712  0.22418449\n",
      "  0.21051312  0.22713444  0.26815676  0.32263973  0.37912428  0.42839712\n",
      "  0.46459098  0.48514066  0.49013758  0.48148774  0.46211546  0.43532574\n",
      "  0.40435433  0.37208911  0.34092746  0.31273107  0.28884413  0.27014799\n",
      "  0.25713306  0.24997494  0.24860695  0.25278472  0.26214101  0.27623053\n",
      "  0.29456532  0.31664172  0.34196042  0.37004051  0.40042906  0.43270693\n",
      "  0.46649196  0.50143999  0.53724452  0.57363532  0.61037633  0.64726323\n",
      "  0.68412078  0.72080006  0.75717582  0.79314385  0.82861861  0.86353091\n",
      "  0.89782588  0.93146108  0.96440482  0.99663463  1.02813592  1.05890083\n",
      "  1.0889271   1.11821726  1.14677773  1.17461821  1.20175101  1.22819058\n",
      "  1.25395301  1.27905573  1.30351707  1.32735609  1.35059228  1.37324536\n",
      "  1.39533517  1.41688145  1.43790381  1.45842157  1.47845371  1.49801883\n",
      "  1.51713507  1.53582009  1.55409102  1.57196449  1.58945656  1.60658278\n",
      "  1.62335812  1.63979699  1.6559133   1.6717204   1.68723111  1.70245775\n",
      "  1.71741213  1.73210558  1.74654897  1.76075269  1.7747267   1.78848055\n",
      "  1.80202336  1.81536386  1.8285104   1.84147098]\n"
     ]
    }
   ],
   "source": [
    "def calcfunvals(xv):\n",
    "    yv= xv**2*np.sin(1/(xv)**2)+xv\n",
    "    return yv\n",
    "print(calcfunvals(xv))"
   ]
  },
  {
   "cell_type": "code",
   "execution_count": 18,
   "metadata": {
    "deletable": false,
    "editable": false
   },
   "outputs": [
    {
     "data": {
      "text/html": [
       "<p><strong><pre style='display: inline;'>intro_q1b</pre></strong> passed! ✨</p><p><strong><pre style='display: inline;'>intro_q1b - 1</pre> message:</strong> Shape of output vector equals shape of input</p><p><strong><pre style='display: inline;'>intro_q1b - 2</pre> message:</strong> Type of output vector equals type of input</p>"
      ],
      "text/plain": [
       "intro_q1b results: All test cases passed!\n",
       "intro_q1b - 1 message: Shape of output vector equals shape of input\n",
       "intro_q1b - 2 message: Type of output vector equals type of input"
      ]
     },
     "execution_count": 18,
     "metadata": {},
     "output_type": "execute_result"
    }
   ],
   "source": [
    "grader.check(\"intro_q1b\")"
   ]
  },
  {
   "cell_type": "markdown",
   "metadata": {},
   "source": [
    "Now we can use the function to calculate the function values, and plot as required."
   ]
  },
  {
   "cell_type": "code",
   "execution_count": 19,
   "metadata": {},
   "outputs": [
    {
     "data": {
      "image/png": "[encoded data removed]",
      "text/plain": [
       "<Figure size 640x480 with 1 Axes>"
      ]
     },
     "metadata": {},
     "output_type": "display_data"
    }
   ],
   "source": [
    "yv = calcfunvals(xv)\n",
    "plt.plot(xv, yv, '-');  \n",
    "plt.xlabel('x');  \n",
    "plt.ylabel('y(x)');"
   ]
  },
  {
   "cell_type": "markdown",
   "metadata": {},
   "source": [
    "Finally, note that all the code above avoids calculating the function $x^2 \\sin(\\frac{1}{x^2}) + x$ at $x=0$, where the argument to the $\\sin$ function becomes indeterminate.  We can use the squeeze (or sandwich) theorem to find the limit.  Since $-1 \\leq \n",
    "\\sin(1/x^2) \\leq 1$ we have $-x^2 \\leq x^2 \\sin(1/x^2) \\leq x^2$.  Thus \n",
    "$$\\lim_{x \\to 0} -x^2 \\leq \\lim_{x \\to 0}x^2 \\sin(1/x^2) \\leq \\lim_{x \\to 0}x^2$$ and hence\n",
    "$$\\lim_{x \\to 0}x^2 \\sin(1/x^2) = 0.$$  If your function definition above doesn't handle this case correctly then rewrite it so that it does."
   ]
  },
  {
   "cell_type": "code",
   "execution_count": 25,
   "metadata": {},
   "outputs": [
    {
     "data": {
      "image/png": "[encoded data removed]",
      "text/plain": [
       "<Figure size 640x480 with 1 Axes>"
      ]
     },
     "metadata": {},
     "output_type": "display_data"
    }
   ],
   "source": [
    "def calc_funvals(x):\n",
    "    if x==0:\n",
    "        return 0\n",
    "    else:\n",
    "        return x**2*np.sin(1/(x)**2)+x\n",
    "yv = np.zeros_like(xv)\n",
    "alpha=0\n",
    "while alpha< len(xv):\n",
    "    yv[alpha]=calc_funvals(xv[alpha])\n",
    "    alpha = alpha + 1\n",
    "    \n",
    "plt.plot(xv, yv, '-');  \n",
    "plt.xlabel('x');  \n",
    "plt.ylabel('y(x)');"
   ]
  },
  {
   "cell_type": "markdown",
   "metadata": {
    "deletable": false,
    "editable": false
   },
   "source": [
    "## Submission\n",
    "\n",
    "Make sure you have run all cells in your notebook in order before running the cell below, so that all images/graphs appear in the output. The cell below will generate a zip file for you to submit. **Please save before exporting!**"
   ]
  },
  {
   "cell_type": "code",
   "execution_count": 13,
   "metadata": {
    "deletable": false,
    "editable": false
   },
   "outputs": [
    {
     "name": "stdout",
     "output_type": "stream",
     "text": [
      "Running your submission against local test cases...\n",
      "\n",
      "\n",
      "\n",
      "Your submission received the following results when run against available test cases:\n",
      "\n",
      "    intro_q1a results: All test cases passed!\n",
      "    intro_q1a - 1 message: Vector has required length\n",
      "\n",
      "    intro_q1b results: All test cases passed!\n",
      "    intro_q1b - 1 message: Shape of output vector equals shape of input\n",
      "    intro_q1b - 2 message: Type of output vector equals type of input\n"
     ]
    },
    {
     "data": {
      "text/html": [
       "\n",
       "            <p>Your submission has been exported. Click <a href=\"lab_intro2023_2023_08_06T20_23_44_405652.zip\" download=\"lab_intro2023_2023_08_06T20_23_44_405652.zip\" target=\"_blank\">here</a>\n",
       "            to download the zip file.</p>\n",
       "            "
      ],
      "text/plain": [
       "<IPython.core.display.HTML object>"
      ]
     },
     "metadata": {},
     "output_type": "display_data"
    }
   ],
   "source": [
    "# Save your notebook first, then run this cell to export your submission.\n",
    "grader.export(pdf=False, run_tests=True)"
   ]
  },
  {
   "cell_type": "markdown",
   "metadata": {},
   "source": [
    " "
   ]
  }
 ],
 "metadata": {
  "anaconda-cloud": {},
  "kernelspec": {
   "display_name": "Python 3 (ipykernel)",
   "language": "python",
   "name": "python3"
  },
  "language_info": {
   "codemirror_mode": {
    "name": "ipython",
    "version": 3
   },
   "file_extension": ".py",
   "mimetype": "text/x-python",
   "name": "python",
   "nbconvert_exporter": "python",
   "pygments_lexer": "ipython3",
   "version": "3.11.3"
  },
  "otter": {
   "OK_FORMAT": true,
   "assignment_name": "intro_q1",
   "tests": {
    "intro_q1a": {
     "name": "intro_q1a",
     "points": null,
     "suites": [
      {
       "cases": [
        {
         "code": ">>> len(xv)\n250",
         "failure_message": "Vector does not have required length",
         "hidden": false,
         "locked": false,
         "points": 1,
         "success_message": "Vector has required length"
        }
       ],
       "scored": true,
       "setup": "",
       "teardown": "",
       "type": "doctest"
      }
     ]
    },
    "intro_q1b": {
     "name": "intro_q1b",
     "points": null,
     "suites": [
      {
       "cases": [
        {
         "code": ">>> yvt = calcfunvals(xv)\n>>> yvt.shape==xv.shape\nTrue",
         "failure_message": "Shape of output vector does not equal shape of input",
         "hidden": false,
         "locked": false,
         "points": 1,
         "success_message": "Shape of output vector equals shape of input"
        },
        {
         "code": ">>> yvt = calcfunvals(xv)\n>>> yvt.dtype==xv.dtype\nTrue",
         "failure_message": "Type of output vector does not equal type of input",
         "hidden": false,
         "locked": false,
         "points": 1,
         "success_message": "Type of output vector equals type of input"
        }
       ],
       "scored": true,
       "setup": "",
       "teardown": "",
       "type": "doctest"
      }
     ]
    }
   }
  }
 },
 "nbformat": 4,
 "nbformat_minor": 4
}
